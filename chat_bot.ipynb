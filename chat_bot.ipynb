{
  "nbformat": 4,
  "nbformat_minor": 0,
  "metadata": {
    "colab": {
      "name": "chat-bot.ipynb",
      "provenance": [],
      "collapsed_sections": [],
      "authorship_tag": "ABX9TyNbiKXGBuW1lwa/D402UNGW",
      "include_colab_link": true
    },
    "kernelspec": {
      "name": "python3",
      "display_name": "Python 3"
    },
    "language_info": {
      "name": "python"
    }
  },
  "cells": [
    {
      "cell_type": "markdown",
      "metadata": {
        "id": "view-in-github",
        "colab_type": "text"
      },
      "source": [
        "<a href=\"https://colab.research.google.com/github/AYAANKHAN2003/Chat-bot/blob/main/chat_bot.ipynb\" target=\"_parent\"><img src=\"https://colab.research.google.com/assets/colab-badge.svg\" alt=\"Open In Colab\"/></a>"
      ]
    },
    {
      "cell_type": "code",
      "execution_count": null,
      "metadata": {
        "id": "byc7GDlCAUIP"
      },
      "outputs": [],
      "source": [
        "import pandas as pd\n",
        "import numpy as np\n",
        "import random\n",
        "import re\n",
        "from sklearn.feature_extraction.text import CountVectorizer\n",
        "from sklearn.metrics.pairwise import cosine_similarity"
      ]
    },
    {
      "cell_type": "code",
      "source": [
        "df = pd.read_csv('chatbot csv-file.csv',\n",
        "                 header=0,\n",
        "                 names=['Questions', 'Answers'])"
      ],
      "metadata": {
        "id": "1cNT2T4_EqrT"
      },
      "execution_count": 4,
      "outputs": []
    },
    {
      "cell_type": "code",
      "source": [
        "vectorizer = CountVectorizer()\n",
        "count_vec = vectorizer.fit_transform(df['Questions']).toarray()\n"
      ],
      "metadata": {
        "id": "mCkaBVQAErrP"
      },
      "execution_count": 5,
      "outputs": []
    },
    {
      "cell_type": "code",
      "source": [
        "def COVIDbot(user_response):\n",
        "  text = vectorizer.transform([user_response]).toarray()\n",
        "  df['similarity'] = cosine_similarity(count_vec, text)\n",
        "  return df.sort_values(['similarity'], ascending=False).iloc[0]['Answers']"
      ],
      "metadata": {
        "id": "MPpzml7dE3yf"
      },
      "execution_count": 6,
      "outputs": []
    },
    {
      "cell_type": "code",
      "source": [
        "welcome_input = (\"hello\", \"hi\", \"greetings\", \"sup\", \"what's up\",\"hey\",\"heya\",\"hello!\",\"hi!\",\"hey!\")\n",
        "welcome_response = [\"hi\", \"hey\", \"hi there\", \"hello\", \"I am glad! You are talking to me..\"]\n",
        "def welcome(user_response):\n",
        "    for word in user_response.split():\n",
        "        if word.lower() in welcome_input:\n",
        "            return random.choice(welcome_response)"
      ],
      "metadata": {
        "id": "O42wLF4nFW1_"
      },
      "execution_count": 10,
      "outputs": []
    },
    {
      "cell_type": "code",
      "source": [
        "flag=True\n",
        "print(\"Greetings! I am a bot and I will try to answer your questions about COVID-19. If you want to exit, type Bye!\")\n",
        "while(flag==True):\n",
        "    user_response = input(\"USER :\")\n",
        "    user_response = user_response.lower()\n",
        "    if(user_response not in ['bye','shutdown','exit', 'quit','esc','stop','end']):\n",
        "        if(user_response=='thanks' or user_response=='thank you' or user_response=='okay thank you' or user_response=='ok thanks' or user_response=='ok thank you'):\n",
        "            flag=False\n",
        "            print(\"BOT : You are welcome..\")\n",
        "        else:\n",
        "            if(welcome(user_response)!=None):\n",
        "                print(\"BOT : \"+welcome(user_response))\n",
        "            else:\n",
        "                print(\"BOT : \",end=\"\")\n",
        "                print(COVIDbot(user_response))\n",
        "    else:\n",
        "        flag=False\n",
        "        print(\"BOT : Goodbye! Take care.. \")"
      ],
      "metadata": {
        "colab": {
          "base_uri": "https://localhost:8080/"
        },
        "id": "Q9oZIg21FrGA",
        "outputId": "e14717ca-b5a9-491e-de28-6fde9511d3f1"
      },
      "execution_count": 12,
      "outputs": [
        {
          "output_type": "stream",
          "name": "stdout",
          "text": [
            "Greetings! I am a bot and I will try to answer your questions about COVID-19. If you want to exit, type Bye!\n",
            "USER :hi\n",
            "BOT : hello\n",
            "USER :what is corona?\n",
            "BOT : A novel coronavirus is a new virus that has not been previously identified. The virus causing coronavirus disease (COVID-19), is not the same as the viruses that commonly circulate among humans and cause mild illness, like the common cold.\n",
            "A diagnosis with coronavirus 229E, NL63, OC43, or HKU1 is not the same as a COVID-19 diagnosis. Patients with COVID-19 will be evaluated and cared for differently than patients with common coronavirus diagnosis.\n",
            "\n",
            "USER :how does the virus spread?\n",
            "BOT : This virus was first detected in Wuhan City, Hubei Province, China. The first infections were linked to a live animal market, but the virus is now spreading from person-to-person. It’s important to note that person-to-person spread can happen on a continuum. Some viruses are highly contagious (like measles), while other viruses are less so.\n",
            "The virus that causes COVID-19 seems to be spreading easily and sustainably in the community (“community spread”) in some affected geographic areas. Community spread means people have been infected with the virus in an area, including some who are not sure how or where they became infected.\n",
            "Learn what is known about the spread of newly emerged coronaviruses.\n",
            "\n",
            "USER :how can i protect myself?\n",
            "BOT : Visit the COVID-19 Prevention and Treatment page to learn about how to protect yourself from respiratory illnesses, like COVID-19.\n",
            "\n",
            "USER :what are the symptoms?\n",
            "BOT : Current symptoms reported for patients with COVID-19 have included mild to severe respiratory illness with fever1, cough, and difficulty breathing. Read about COVID-19 Symptoms.\n",
            "\n",
            "USER :bye\n",
            "BOT : Goodbye! Take care.. \n"
          ]
        }
      ]
    },
    {
      "cell_type": "code",
      "source": [
        ""
      ],
      "metadata": {
        "id": "lhHBpxsaUjy7"
      },
      "execution_count": null,
      "outputs": []
    }
  ]
}